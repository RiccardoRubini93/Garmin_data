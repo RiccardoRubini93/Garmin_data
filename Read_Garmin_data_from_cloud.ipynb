{
  "nbformat": 4,
  "nbformat_minor": 0,
  "metadata": {
    "colab": {
      "provenance": [],
      "authorship_tag": "ABX9TyNtjjxWhzlaASee8NhpQ07w",
      "include_colab_link": true
    },
    "kernelspec": {
      "name": "python3",
      "display_name": "Python 3"
    },
    "language_info": {
      "name": "python"
    }
  },
  "cells": [
    {
      "cell_type": "markdown",
      "metadata": {
        "id": "view-in-github",
        "colab_type": "text"
      },
      "source": [
        "<a href=\"https://colab.research.google.com/github/RiccardoRubini93/Garmin_data/blob/main/Read_Garmin_data_from_cloud.ipynb\" target=\"_parent\"><img src=\"https://colab.research.google.com/assets/colab-badge.svg\" alt=\"Open In Colab\"/></a>"
      ]
    },
    {
      "cell_type": "code",
      "source": [
        "pip install garminconnect"
      ],
      "metadata": {
        "id": "ZM43Xfvy0wd-"
      },
      "execution_count": null,
      "outputs": []
    },
    {
      "cell_type": "code",
      "execution_count": 3,
      "metadata": {
        "id": "nsCrfE1j0gSB"
      },
      "outputs": [],
      "source": [
        "from garminconnect import (\n",
        "    Garmin,\n",
        "    GarminConnectAuthenticationError,\n",
        "    GarminConnectConnectionError,\n",
        "    GarminConnectTooManyRequestsError,\n",
        ")"
      ]
    },
    {
      "cell_type": "code",
      "source": [
        "# Authenticate with Garmin Connect\n",
        "client = Garmin(\"riru93@gmail.com\", \"P@ssw0rd\")\n",
        "client.login()"
      ],
      "metadata": {
        "colab": {
          "base_uri": "https://localhost:8080/"
        },
        "id": "d4f5nBL70kEZ",
        "outputId": "b6da5c3d-6a1b-4c06-97b0-3b540697836f"
      },
      "execution_count": 4,
      "outputs": [
        {
          "output_type": "execute_result",
          "data": {
            "text/plain": [
              "True"
            ]
          },
          "metadata": {},
          "execution_count": 4
        }
      ]
    },
    {
      "cell_type": "code",
      "source": [
        "# Download a list of activities\n",
        "activities = client.get_activities(0, 10)  # Download the first 10 activities"
      ],
      "metadata": {
        "id": "nWb6hlgn0mHO"
      },
      "execution_count": 5,
      "outputs": []
    },
    {
      "cell_type": "code",
      "source": [
        "# Print the activity names and IDs\n",
        "for activity in activities:\n",
        "    print(activity[\"activityName\"], activity[\"activityId\"])"
      ],
      "metadata": {
        "colab": {
          "base_uri": "https://localhost:8080/"
        },
        "id": "t79DWM7Y0oJz",
        "outputId": "7432b77b-0c54-49b5-c343-4a440aa8406f"
      },
      "execution_count": 6,
      "outputs": [
        {
          "output_type": "stream",
          "name": "stdout",
          "text": [
            "Milano Ciclismo 11114381636\n",
            "Milano Corsa 11107301674\n",
            "Milano Corsa 11107297261\n",
            "Milano Corsa 11107295734\n",
            "Milano Ciclismo 11064347381\n",
            "Segrate Multisport 11064339169\n",
            "Milano Corsa 11064335419\n",
            "Cogorno Corsa 11064331127\n",
            "Andora Multisport 11014392552\n",
            "Chiavari Corsa 11014388643\n"
          ]
        }
      ]
    },
    {
      "cell_type": "code",
      "source": [
        "for activity in activities:\n",
        "\n",
        "  activity_id = activity[\"activityId\"]\n",
        "\n",
        "  print(f\"client.download_activity({activity_id}, dl_fmt=api.ActivityDownloadFormat.ORIGINAL)\")\n",
        "  zip_data = client.download_activity(activity_id, dl_fmt=client.ActivityDownloadFormat.ORIGINAL)\n",
        "  output_file = f\"./{str(activity_id)}.zip\"\n",
        "  with open(output_file, \"wb\") as fb:\n",
        "    fb.write(zip_data)\n",
        "  print(f\"Activity data downloaded to file {output_file}\")"
      ],
      "metadata": {
        "id": "LTtZg1uQ1PR7"
      },
      "execution_count": null,
      "outputs": []
    },
    {
      "cell_type": "code",
      "source": [
        "#TODO: implement a method that unpack the zip files and reads them into a dataframes"
      ],
      "metadata": {
        "id": "Gk0rMwyK1g4_"
      },
      "execution_count": null,
      "outputs": []
    },
    {
      "cell_type": "code",
      "source": [],
      "metadata": {
        "id": "BU1iIg7b1hW7"
      },
      "execution_count": null,
      "outputs": []
    }
  ]
}